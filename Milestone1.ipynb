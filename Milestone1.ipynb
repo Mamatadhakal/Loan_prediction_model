{
 "cells": [
  {
   "cell_type": "markdown",
   "id": "291865fe-8a64-4afa-a932-479c848cc93f",
   "metadata": {},
   "source": [
    "**Milestone 1: Feature Engineering & Selection**\n",
    "\n",
    "This script covers:\n",
    "1. Data Exploration & Analysis (EDA)\n",
    "2. Feature Engineering\n",
    "3. Feature Selection"
   ]
  },
  {
   "cell_type": "code",
   "execution_count": null,
   "id": "78f5cf3f-39bd-44ca-91bb-36f4461b9afd",
   "metadata": {},
   "outputs": [],
   "source": [
    "#importing the libaries\n",
    "import pandas as pd #Used for data manipulation and analysis, especially for working with tabular data (DataFrames and Series).\n",
    "import numpy as np #Provides support for numerical operations, including arrays, matrices, and mathematical functions.\n",
    "import matplotlib.pyplot as plt #Used for creating visualizations, such as line plots, bar charts, scatter plots, etc.\n",
    "import seaborn as sns #It provides attractive statistical graphics like heatmaps, violin plots, and boxplots.\n",
    "from sklearn.preprocessing import LabelEncoder, StandardScaler #mports two tools from Scikit-learn's preprocessing module\n",
    "#LabelEncoder: Converts categorical string labels into numeric form.\n",
    "#StandardScaler: Standardizes features by removing the mean and scaling to unit variance.\n",
    "from sklearn.feature_selection import SelectKBest, f_classif #Imports tools for feature selection\n",
    "from sklearn.decomposition import PCA #Imports Principal Component Analysis (PCA) from Scikit-learn.\n",
    "from sklearn.ensemble import RandomForestClassifier"
   ]
  },
  {
   "cell_type": "code",
   "execution_count": null,
   "id": "f74cae9f-cd98-45b2-bb02-355056aafdc9",
   "metadata": {},
   "outputs": [],
   "source": [
    "#load the data\n",
    "train_df = pd.read_csv(\"C:/Users/mamat/Downloads/train (1).csv\")\n",
    "test_df = pd.read_csv(\"C:/Users/mamat/Downloads/test.csv\")"
   ]
  },
  {
   "cell_type": "code",
   "execution_count": null,
   "id": "0585e7a8-a3a2-4852-be51-4d6c2ad10a23",
   "metadata": {},
   "outputs": [],
   "source": [
    "# Exploratory Data Analysis\n",
    "print(train_df.info()) # to look at the basic infromation\n",
    "print(train_df.describe(include='all')) #to describe the table\n",
    "print(train_df.isnull().sum()) # to see null value\n",
    "#When you build a machine learning model, the model is trained on the train.csv file and then tested or validated on the test.csv file. \n",
    "#If your test data has missing values or is not cleaned the same way as train data, your model may give incorrect or poor results.\n",
    "sns.countplot(x='Loan_Status', data=train_df)\n",
    "plt.show()"
   ]
  },
  {
   "cell_type": "code",
   "execution_count": null,
   "id": "583c5443-66d5-42c4-9577-fa4f9fbc1c0a",
   "metadata": {},
   "outputs": [],
   "source": [
    "# Loop through selected categorical features to analyze their relationship with Loan Status\n",
    "for col in ['Gender', 'Married', 'Education', 'Self_Employed']:\n",
    "    plt.figure(figsize=(10,6)) # Set the figure size for each plot to ensure clarity\n",
    "    sns.countplot(x=col, hue='Loan_Status', data=train_df) # Create a count plot for the current categorical feature,\n",
    "    plt.title(f'Loan Status by {col}') # Add a title \n",
    "    plt.show()  # Display the plot before moving to the next feature"
   ]
  },
  {
   "cell_type": "code",
   "execution_count": null,
   "id": "1405e437-803c-41a4-ad59-624c40e2a847",
   "metadata": {},
   "outputs": [],
   "source": [
    "# Handle missing values\n",
    "for col in ['Gender', 'Married', 'Dependents', 'Self_Employed']:\n",
    "    train_df[col].fillna(train_df[col].mode()[0], inplace=True)\n",
    "train_df['LoanAmount'].fillna(train_df['LoanAmount'].median(), inplace=True) # Fill numeric missing values with median\n",
    "train_df['Loan_Amount_Term'].fillna(train_df['Loan_Amount_Term'].median(), inplace=True) # Fill numeric missing values with median\n",
    "train_df['Credit_History'].fillna(train_df['Credit_History'].mode()[0], inplace=True) # Fill categorical missing values with mode"
   ]
  },
  {
   "cell_type": "code",
   "execution_count": null,
   "id": "9da5130e-199e-4c4f-9bf0-e2085f0e71e3",
   "metadata": {},
   "outputs": [],
   "source": [
    "# Feature Engineering\n",
    "# Create total income by combining applicant and co-applicant income\n",
    "train_df['TotalIncome'] = train_df['ApplicantIncome'] + train_df['CoapplicantIncome']\n",
    "# Create a ratio to reflect loan affordability based on income\n",
    "train_df['IncomeToLoanRatio'] = train_df['TotalIncome'] / train_df['LoanAmount']\n",
    "# Apply log transformation to reduce skewness in LoanAmount\n",
    "train_df['LoanAmount_log'] = np.log(train_df['LoanAmount'] + 1)\n",
    "# Create a ratio of loan amount to loan term, reflecting repayment intensity\n",
    "train_df['LoanAmountTermRatio'] = train_df['LoanAmount'] / train_df['Loan_Amount_Term']"
   ]
  },
  {
   "cell_type": "code",
   "execution_count": null,
   "id": "62c17ad3-4a73-4125-9f7f-8f472071f440",
   "metadata": {},
   "outputs": [],
   "source": [
    "# Encode categorical features\n",
    "# Initialize LabelEncoder (converts categories to integers e.g., Male=1, Female=0)\n",
    "label_cols = ['Gender', 'Married', 'Education', 'Self_Employed', 'Loan_Status']\n",
    "le = LabelEncoder() # Encode binary categorical variables into numeric using LabelEncoder\n",
    "for col in label_cols: # Apply encoding to each categorical column\n",
    "    train_df[col] = le.fit_transform(train_df[col])\n",
    "train_df['Dependents'] = train_df['Dependents'].replace('3+', 3).astype(int) # Replace '3+' in Dependents with 3 and convert to integer\n"
   ]
  },
  {
   "cell_type": "code",
   "execution_count": null,
   "id": "ca1232f3-37a6-4d1c-aeab-fd33a226a3a6",
   "metadata": {},
   "outputs": [],
   "source": [
    "# Feature Selection using SelectKBest\n",
    "\n",
    "\"\"\"\n",
    "    Select the most important features using statistical methods.\n",
    "    \n",
    "    Why we do this:\n",
    "    - Reduce dimensionality to improve model performance\n",
    "    - Remove irrelevant or redundant features\n",
    "    - Speed up model training\n",
    "    - Potentially improve model interpretability\n",
    "    \"\"\"\n",
    "# Prepare features (X) and target (y) for modeling\n",
    "# Dropping irrelevant columns (Loan_ID) and redundant features (raw incomes/loan amounts)\n",
    "X = train_df.drop(['Loan_ID', 'Loan_Status', 'ApplicantIncome', 'CoapplicantIncome', 'LoanAmount'], axis=1)\n",
    "y = train_df['Loan_Status']\n",
    "# Feature selection using ANOVA F-test (measures linear relationship with target)\n",
    "selector = SelectKBest(score_func=f_classif, k='all')  # k='all' keeps all features\n",
    "selector.fit(X, y) # Computes F-scores\n",
    "# Display feature scores in descending order (higher score = more predictive power)\n",
    "feature_scores = pd.Series(selector.scores_, index=X.columns).sort_values(ascending=False)\n",
    "print(feature_scores) # Print feature scores"
   ]
  },
  {
   "cell_type": "code",
   "execution_count": null,
   "id": "3a19542d-b220-4b7e-8ef2-b7148dc2ffef",
   "metadata": {},
   "outputs": [],
   "source": [
    "# Feature Importance using Random Forest\n",
    "model = RandomForestClassifier() # Default parameters\n",
    "model.fit(X, y) # Train on all features\n",
    "importances = pd.Series(model.feature_importances_, index=X.columns)\n",
    "importances.sort_values().plot(kind='barh') # Horizontal bar plot\n",
    "plt.title('Feature Importances')\n",
    "plt.show() # Displays the plot"
   ]
  }
 ],
 "metadata": {
  "kernelspec": {
   "display_name": "Python [conda env:base] *",
   "language": "python",
   "name": "conda-base-py"
  },
  "language_info": {
   "codemirror_mode": {
    "name": "ipython",
    "version": 3
   },
   "file_extension": ".py",
   "mimetype": "text/x-python",
   "name": "python",
   "nbconvert_exporter": "python",
   "pygments_lexer": "ipython3",
   "version": "3.12.7"
  }
 },
 "nbformat": 4,
 "nbformat_minor": 5
}
